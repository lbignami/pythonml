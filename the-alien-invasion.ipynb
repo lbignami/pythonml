{
 "cells": [
  {
   "cell_type": "markdown",
   "metadata": {},
   "source": [
    "# 👾 The Alien Invasion!\n",
    "\n",
    "**Scenario:**\n",
    "\n",
    "You're a data analyst at the Earth Defence Organisation (EDO). You've just received a transmission containing **data about an alien fleet** heading towards Earth! The transmission contains vital data about each alien spaceship's **dimensions, speed, and weapon power**. Your job is to analyze this data to provide the EDO with the insights needed to prepare Earth's defenses. \n",
    "\n",
    "**Exercise:**\n",
    "\n",
    "The transmission is an matrix (an array) which contains data for each spaceship. Every line represents one spaceship, with values in the order of: **length** (in meters), **width** (in meters), **height** (in meters), **speed** (in km/s), and **weapon power** (on a scale of 1-10)."
   ]
  },
  {
   "cell_type": "code",
   "execution_count": 16,
   "metadata": {},
   "outputs": [],
   "source": [
    "import numpy as np\n",
    "\n",
    "\n",
    "fleet_data = np.array([\n",
    "    [120, 40, 25, 2.5, 10],\n",
    "    [85, 60, 30, 5.0, 5],\n",
    "    [100, 50, 35, 4.5, 7],\n",
    "    [120, 40, 25, 2.5, 9],\n",
    "    [150, 50, 30, 3.0, 10],\n",
    "], dtype=np.float32)"
   ]
  },
  {
   "cell_type": "markdown",
   "metadata": {},
   "source": [
    "**Your tasks:**\n",
    "\n",
    "1. Calculate and print the total number of spaceships."
   ]
  },
  {
   "cell_type": "code",
   "execution_count": 6,
   "metadata": {},
   "outputs": [
    {
     "data": {
      "text/plain": [
       "'Number of ships in the fleet: 5'"
      ]
     },
     "execution_count": 6,
     "metadata": {},
     "output_type": "execute_result"
    }
   ],
   "source": [
    "fleet_length = fleet_data.shape[0]\n",
    "f\"Number of ships in the fleet: {fleet_length}\""
   ]
  },
  {
   "cell_type": "markdown",
   "metadata": {},
   "source": [
    "2. Calculate and print the average spaceship size (volume). "
   ]
  },
  {
   "cell_type": "code",
   "execution_count": 29,
   "metadata": {},
   "outputs": [
    {
     "data": {
      "text/plain": [
       "'The average volume of the ships is: 158600.0 cubic meters'"
      ]
     },
     "execution_count": 29,
     "metadata": {},
     "output_type": "execute_result"
    }
   ],
   "source": [
    "ships_lengths = fleet_data[:, 0]\n",
    "ships_widths = fleet_data [:, 1]\n",
    "ships_heights = fleet_data [:, 2]\n",
    "ships_volumes = ships_lengths * ships_widths * ships_heights\n",
    "ships_mean_volume = np.mean(ships_volumes)\n",
    "f\"The average volume of the ships is: {ships_mean_volume} cubic meters\""
   ]
  },
  {
   "cell_type": "markdown",
   "metadata": {},
   "source": [
    "3. Identify and print the speed of the fastest spaceship."
   ]
  },
  {
   "cell_type": "code",
   "execution_count": 37,
   "metadata": {},
   "outputs": [
    {
     "data": {
      "text/plain": [
       "'The speed of the fastest spaceship is 5.0 km/s'"
      ]
     },
     "execution_count": 37,
     "metadata": {},
     "output_type": "execute_result"
    }
   ],
   "source": [
    "fastest_ship = np.max(fleet_data[:,3])\n",
    "f\"The speed of the fastest spaceship is {fastest_ship} km/s\""
   ]
  },
  {
   "cell_type": "markdown",
   "metadata": {},
   "source": [
    "4. Determine and print the number of spaceships with the maximum weapon power."
   ]
  },
  {
   "cell_type": "code",
   "execution_count": 5,
   "metadata": {},
   "outputs": [
    {
     "name": "stdout",
     "output_type": "stream",
     "text": [
      "Number of spaceships with maximum weapon power: 2\n"
     ]
    }
   ],
   "source": []
  },
  {
   "cell_type": "markdown",
   "metadata": {},
   "source": [
    "5. Find and print the mean speed of spaceships with the maximum weapon power."
   ]
  },
  {
   "cell_type": "code",
   "execution_count": 6,
   "metadata": {},
   "outputs": [
    {
     "name": "stdout",
     "output_type": "stream",
     "text": [
      "Mean speed of spaceships with maximum weapon power: 2.75 km/s\n"
     ]
    }
   ],
   "source": []
  },
  {
   "cell_type": "markdown",
   "metadata": {},
   "source": [
    "Remember, the fate of Earth depends on your quick and accurate analysis. Good luck! 🍀"
   ]
  }
 ],
 "metadata": {
  "kernelspec": {
   "display_name": "Python 3",
   "language": "python",
   "name": "python3"
  },
  "language_info": {
   "codemirror_mode": {
    "name": "ipython",
    "version": 3
   },
   "file_extension": ".py",
   "mimetype": "text/x-python",
   "name": "python",
   "nbconvert_exporter": "python",
   "pygments_lexer": "ipython3",
   "version": "3.9.17"
  },
  "orig_nbformat": 4
 },
 "nbformat": 4,
 "nbformat_minor": 2
}
